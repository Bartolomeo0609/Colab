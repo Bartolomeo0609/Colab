{
  "nbformat": 4,
  "nbformat_minor": 0,
  "metadata": {
    "colab": {
      "provenance": [],
      "include_colab_link": true
    },
    "kernelspec": {
      "name": "python3",
      "display_name": "Python 3"
    }
  },
  "cells": [
    {
      "cell_type": "markdown",
      "metadata": {
        "id": "view-in-github",
        "colab_type": "text"
      },
      "source": [
        "<a href=\"https://colab.research.google.com/github/Bartolomeo0609/Colab/blob/main/Neuralnets.ipynb\" target=\"_parent\"><img src=\"https://colab.research.google.com/assets/colab-badge.svg\" alt=\"Open In Colab\"/></a>"
      ]
    },
    {
      "cell_type": "markdown",
      "source": [],
      "metadata": {
        "id": "asXch4zVCztu"
      }
    },
    {
      "metadata": {
        "id": "mWL0G_gOpppy"
      },
      "cell_type": "markdown",
      "source": [
        "#Introduction to neural nets\n",
        "\n",
        "En este cuaderno exploraremos un poco el uso de redes neuronales. La tarea será consutrir una red utilizando sklearn y otra utilizando TensorFlow, para atacar el problema del dataset [notMNIST](http://yaroslavvb.com/upload/notMNIST/)."
      ]
    },
    {
      "metadata": {
        "id": "DFqaa_qsSuVN"
      },
      "cell_type": "code",
      "source": [
        "import os\n",
        "import sys\n",
        "import random\n",
        "import tarfile\n",
        "\n",
        "import numpy as np\n",
        "import tensorflow as tf\n",
        "import matplotlib.pyplot as plt\n",
        "\n",
        "from scipy import ndimage\n",
        "from IPython.display import display, Image\n",
        "from sklearn.linear_model import LogisticRegression\n",
        "from sklearn.neural_network import MLPClassifier\n",
        "from urllib.request import urlretrieve"
      ],
      "execution_count": null,
      "outputs": []
    },
    {
      "metadata": {
        "id": "G9YqdDn7fVRb"
      },
      "cell_type": "markdown",
      "source": [
        "El siguiente código se encarga de organizar todo lo que necesitamos para trabajar"
      ]
    },
    {
      "metadata": {
        "id": "HRQCYZ4Yv6Xv"
      },
      "cell_type": "code",
      "source": [
        "URL = 'http://yaroslavvb.com/upload/notMNIST/'\n",
        "NUM_CLASSES = 10\n",
        "IMAGE_SIZE = 28\n",
        "PIXEL_MAX_VALUE = 255.0"
      ],
      "execution_count": null,
      "outputs": []
    },
    {
      "metadata": {
        "id": "-CfQLYR-JeZ_"
      },
      "cell_type": "code",
      "source": [
        "def maybe_download(filename, expected_bytes):\n",
        "    \"\"\"Download a file if not present, and make sure it's the right size.\"\"\"\n",
        "    if not os.path.exists(filename):\n",
        "        filename, _ = urlretrieve(URL + filename, filename)\n",
        "    statinfo = os.stat(filename)\n",
        "    if statinfo.st_size == expected_bytes:\n",
        "        print('Found and verified', filename)\n",
        "    else:\n",
        "        raise Exception(\n",
        "        'Failed to verify' + filename + '. Can you get to it with a browser?')\n",
        "    return filename"
      ],
      "execution_count": null,
      "outputs": []
    },
    {
      "metadata": {
        "id": "N1BbCR6VJ355",
        "colab": {
          "base_uri": "https://localhost:8080/",
          "height": 34
        },
        "outputId": "1a25421d-5961-4cc9-980b-ecf113d18e93"
      },
      "cell_type": "code",
      "source": [
        "train_filename = maybe_download('notMNIST_large.tar.gz', 247336696)"
      ],
      "execution_count": null,
      "outputs": [
        {
          "output_type": "stream",
          "text": [
            "Found and verified notMNIST_large.tar.gz\n"
          ],
          "name": "stdout"
        }
      ]
    },
    {
      "metadata": {
        "id": "d_yN-jYUKGIv",
        "colab": {
          "base_uri": "https://localhost:8080/",
          "height": 34
        },
        "outputId": "02199350-c8ab-44d6-db08-968e0f766437"
      },
      "cell_type": "code",
      "source": [
        "test_filename = maybe_download('notMNIST_small.tar.gz', 8458043)"
      ],
      "execution_count": null,
      "outputs": [
        {
          "output_type": "stream",
          "text": [
            "Found and verified notMNIST_small.tar.gz\n"
          ],
          "name": "stdout"
        }
      ]
    },
    {
      "metadata": {
        "id": "Pj2mGLPIKgJT"
      },
      "cell_type": "code",
      "source": [
        "def extract(filename):\n",
        "    tar = tarfile.open(filename)\n",
        "    root = os.path.splitext(os.path.splitext(filename)[0])[0] # remove .tar.gz\n",
        "    print('Extracting data for %s. This may take a while. Please wait.' % root)\n",
        "    sys.stdout.flush()\n",
        "    tar.extractall()\n",
        "    tar.close()\n",
        "    data_folders = [os.path.join(root, d)\n",
        "                    for d in sorted(os.listdir(root))\n",
        "                    if d != '.DS_Store']\n",
        "    if len(data_folders) != NUM_CLASSES:\n",
        "        raise Exception(\n",
        "            'Expected %d folders, one per class. Found %d instead.' % (\n",
        "                num_classes, len(data_folders)))\n",
        "    print(data_folders)\n",
        "    return data_folders"
      ],
      "execution_count": null,
      "outputs": []
    },
    {
      "metadata": {
        "id": "4-pJkHuxKx1R",
        "colab": {
          "base_uri": "https://localhost:8080/",
          "height": 105
        },
        "outputId": "9d8c0669-1761-4519-84c0-11b2251f5bbf"
      },
      "cell_type": "code",
      "source": [
        "train_folders = extract(train_filename)\n",
        "test_folders = extract(test_filename)"
      ],
      "execution_count": null,
      "outputs": [
        {
          "output_type": "stream",
          "text": [
            "Extracting data for notMNIST_large. This may take a while. Please wait.\n",
            "['notMNIST_large/A', 'notMNIST_large/B', 'notMNIST_large/C', 'notMNIST_large/D', 'notMNIST_large/E', 'notMNIST_large/F', 'notMNIST_large/G', 'notMNIST_large/H', 'notMNIST_large/I', 'notMNIST_large/J']\n",
            "Extracting data for notMNIST_small. This may take a while. Please wait.\n",
            "['notMNIST_small/A', 'notMNIST_small/B', 'notMNIST_small/C', 'notMNIST_small/D', 'notMNIST_small/E', 'notMNIST_small/F', 'notMNIST_small/G', 'notMNIST_small/H', 'notMNIST_small/I', 'notMNIST_small/J']\n"
          ],
          "name": "stdout"
        }
      ]
    },
    {
      "metadata": {
        "id": "NI1uUwBCMOT3"
      },
      "cell_type": "code",
      "source": [
        "def load(data_folders, min_num_images, max_num_images):\n",
        "    dataset = np.ndarray(shape=(max_num_images, IMAGE_SIZE, IMAGE_SIZE), dtype=np.float32)\n",
        "    labels = np.ndarray(shape=(max_num_images), dtype=np.int32)\n",
        "    label_index = 0\n",
        "    image_index = 0\n",
        "    for folder in data_folders:\n",
        "        print(folder)\n",
        "        for image in os.listdir(folder):\n",
        "            if image_index >= max_num_images:\n",
        "                raise Exception('More images than expected: %d >= %d' % (\n",
        "                            image_index, max_num_images))\n",
        "            image_file = os.path.join(folder, image)\n",
        "            try:\n",
        "                image_data = (ndimage.imread(image_file).astype(float) -\n",
        "                                PIXEL_MAX_VALUE / 2) / PIXEL_MAX_VALUE\n",
        "                if image_data.shape != (IMAGE_SIZE, IMAGE_SIZE):\n",
        "                    raise Exception('Unexpected image shape: %s' % str(image_data.shape))\n",
        "                dataset[image_index, :, :] = image_data\n",
        "                labels[image_index] = label_index\n",
        "                image_index += 1\n",
        "            except IOError as e:\n",
        "                print('Could not read:', image_file, ':', e, '- it\\'s ok, skipping.')\n",
        "        label_index += 1\n",
        "    num_images = image_index\n",
        "    dataset = dataset[0:num_images, :, :]\n",
        "    labels = labels[0:num_images]\n",
        "    if num_images < min_num_images:\n",
        "        raise Exception('Many fewer images than expected: %d < %d' % (\n",
        "            num_images, min_num_images))\n",
        "    print('Full dataset tensor:', dataset.shape)\n",
        "    print('Mean:', np.mean(dataset))\n",
        "    print('Standard deviation:', np.std(dataset))\n",
        "    print('Labels:', labels.shape)\n",
        "    return dataset, labels"
      ],
      "execution_count": null,
      "outputs": []
    },
    {
      "metadata": {
        "id": "OzJE9MgbMOP8",
        "colab": {
          "base_uri": "https://localhost:8080/",
          "height": 360
        },
        "outputId": "21208e27-5ed6-48f2-fecc-a944d8385192"
      },
      "cell_type": "code",
      "source": [
        "train_dataset, train_labels = load(train_folders, 450000, 550000)"
      ],
      "execution_count": null,
      "outputs": [
        {
          "output_type": "stream",
          "text": [
            "notMNIST_large/A\n",
            "Could not read: notMNIST_large/A/SG90IE11c3RhcmQgQlROIFBvc3Rlci50dGY=.png : cannot identify image file 'notMNIST_large/A/SG90IE11c3RhcmQgQlROIFBvc3Rlci50dGY=.png' - it's ok, skipping.\n",
            "Could not read: notMNIST_large/A/RnJlaWdodERpc3BCb29rSXRhbGljLnR0Zg==.png : cannot identify image file 'notMNIST_large/A/RnJlaWdodERpc3BCb29rSXRhbGljLnR0Zg==.png' - it's ok, skipping.\n",
            "Could not read: notMNIST_large/A/Um9tYW5hIEJvbGQucGZi.png : cannot identify image file 'notMNIST_large/A/Um9tYW5hIEJvbGQucGZi.png' - it's ok, skipping.\n",
            "notMNIST_large/B\n",
            "Could not read: notMNIST_large/B/TmlraXNFRi1TZW1pQm9sZEl0YWxpYy5vdGY=.png : cannot identify image file 'notMNIST_large/B/TmlraXNFRi1TZW1pQm9sZEl0YWxpYy5vdGY=.png' - it's ok, skipping.\n",
            "notMNIST_large/C\n",
            "notMNIST_large/D\n",
            "Could not read: notMNIST_large/D/VHJhbnNpdCBCb2xkLnR0Zg==.png : cannot identify image file 'notMNIST_large/D/VHJhbnNpdCBCb2xkLnR0Zg==.png' - it's ok, skipping.\n",
            "notMNIST_large/E\n",
            "notMNIST_large/F\n",
            "notMNIST_large/G\n",
            "notMNIST_large/H\n",
            "notMNIST_large/I\n",
            "notMNIST_large/J\n",
            "Full dataset tensor: (529114, 28, 28)\n",
            "Mean: -0.081659585\n",
            "Standard deviation: 0.45423272\n",
            "Labels: (529114,)\n"
          ],
          "name": "stdout"
        }
      ]
    },
    {
      "metadata": {
        "id": "uKIUs77NKybu",
        "colab": {
          "base_uri": "https://localhost:8080/",
          "height": 309
        },
        "outputId": "d4776a3d-99b8-43b8-80aa-77810fa141eb"
      },
      "cell_type": "code",
      "source": [
        "test_dataset, test_labels = load(test_folders, 18000, 20000)"
      ],
      "execution_count": null,
      "outputs": [
        {
          "output_type": "stream",
          "text": [
            "notMNIST_small/A\n",
            "Could not read: notMNIST_small/A/RGVtb2NyYXRpY2FCb2xkT2xkc3R5bGUgQm9sZC50dGY=.png : cannot identify image file 'notMNIST_small/A/RGVtb2NyYXRpY2FCb2xkT2xkc3R5bGUgQm9sZC50dGY=.png' - it's ok, skipping.\n",
            "notMNIST_small/B\n",
            "notMNIST_small/C\n",
            "notMNIST_small/D\n",
            "notMNIST_small/E\n",
            "notMNIST_small/F\n",
            "Could not read: notMNIST_small/F/Q3Jvc3NvdmVyIEJvbGRPYmxpcXVlLnR0Zg==.png : cannot identify image file 'notMNIST_small/F/Q3Jvc3NvdmVyIEJvbGRPYmxpcXVlLnR0Zg==.png' - it's ok, skipping.\n",
            "notMNIST_small/G\n",
            "notMNIST_small/H\n",
            "notMNIST_small/I\n",
            "notMNIST_small/J\n",
            "Full dataset tensor: (18724, 28, 28)\n",
            "Mean: -0.07463625\n",
            "Standard deviation: 0.45862198\n",
            "Labels: (18724,)\n"
          ],
          "name": "stdout"
        }
      ]
    },
    {
      "metadata": {
        "id": "BRwB1ptlgnQZ"
      },
      "cell_type": "code",
      "source": [
        "def show_processed_random(dataset,labels,n):\n",
        "    indices=random.sample(range(0,labels.shape[0]),n)\n",
        "    fig=plt.figure()\n",
        "    for i in range(n):\n",
        "        a=fig.add_subplot(1,n,i+1)\n",
        "        plt.imshow(dataset[indices[i],:,:])\n",
        "        a.set_title(chr(labels[indices[i]]+ord('A')))\n",
        "        a.axes.get_xaxis().set_visible(False)\n",
        "        a.axes.get_yaxis().set_visible(False)\n",
        "    plt.show()"
      ],
      "execution_count": null,
      "outputs": []
    },
    {
      "metadata": {
        "id": "ILce5ARZfQoL",
        "colab": {
          "base_uri": "https://localhost:8080/",
          "height": 151
        },
        "outputId": "ce7b3566-17e9-42a6-f378-76e54f6237d7"
      },
      "cell_type": "code",
      "source": [
        "show_processed_random(train_dataset,train_labels,10)\n",
        "show_processed_random(test_dataset,test_labels,10)"
      ],
      "execution_count": null,
      "outputs": [
        {
          "output_type": "display_data",
          "data": {
            "image/png": "[encoded data removed]",
            "text/plain": [
              "<matplotlib.figure.Figure at 0x7f88ef35b278>"
            ]
          },
          "metadata": {
            "tags": []
          }
        },
        {
          "output_type": "display_data",
          "data": {
            "image/png": "[encoded data removed]",
            "text/plain": [
              "<matplotlib.figure.Figure at 0x7f88c2cfc160>"
            ]
          },
          "metadata": {
            "tags": []
          }
        }
      ]
    },
    {
      "metadata": {
        "id": "Q_70Uyz9g8DY"
      },
      "cell_type": "code",
      "source": [
        "def randomize(dataset, labels):\n",
        "    permutation = np.random.permutation(labels.shape[0])\n",
        "    shuffled_dataset = dataset[permutation,:,:]\n",
        "    shuffled_labels = labels[permutation]\n",
        "    return shuffled_dataset, shuffled_labels"
      ],
      "execution_count": null,
      "outputs": []
    },
    {
      "metadata": {
        "id": "iKq1zaGMhTQ1"
      },
      "cell_type": "code",
      "source": [
        "train_dataset, train_labels = randomize(train_dataset, train_labels)\n",
        "test_dataset, test_labels = randomize(test_dataset, test_labels)"
      ],
      "execution_count": null,
      "outputs": []
    },
    {
      "metadata": {
        "id": "9YXXkqcYwaUr",
        "colab": {
          "base_uri": "https://localhost:8080/",
          "height": 51
        },
        "outputId": "9c663101-97a0-4b96-af52-ccdb2e48fab8"
      },
      "cell_type": "code",
      "source": [
        "print(train_labels.shape)\n",
        "print(test_labels.shape)"
      ],
      "execution_count": null,
      "outputs": [
        {
          "output_type": "stream",
          "text": [
            "(529114,)\n",
            "(18724,)\n"
          ],
          "name": "stdout"
        }
      ]
    },
    {
      "metadata": {
        "id": "MrypuPdZj2Is",
        "colab": {
          "base_uri": "https://localhost:8080/",
          "height": 51
        },
        "outputId": "6c677506-505d-4e72-dee6-cb754e5bee94"
      },
      "cell_type": "code",
      "source": [
        "print(train_dataset.shape)\n",
        "print(test_dataset.shape)"
      ],
      "execution_count": null,
      "outputs": [
        {
          "output_type": "stream",
          "text": [
            "(529114, 28, 28)\n",
            "(18724, 28, 28)\n"
          ],
          "name": "stdout"
        }
      ]
    },
    {
      "metadata": {
        "id": "nIwW6ffVh-KE"
      },
      "cell_type": "markdown",
      "source": [
        "Ya que tenemos nuestras imágenes cargadas, podemos empezar a trabajar. Lo primero que debemos hacer es que cada pixel represente una característica diferente, es decir, debemos cambiar el tamaño del dataset de `(n_imgs, IMAGE_SIZE, IMAGE_SIZE)` por `(n_imgs, IMAGE_SIZE * IMAGE_SIZE)`.\n",
        "\n",
        "**Ejercicio 0:** cambia la forma de `train_dataset` y `test_dataset` utilizando [`np.reshape`](https://docs.scipy.org/doc/numpy/reference/generated/numpy.reshape.html)."
      ]
    },
    {
      "metadata": {
        "id": "Ul3FJLXDh5Lq",
        "colab": {
          "base_uri": "https://localhost:8080/",
          "height": 163
        },
        "outputId": "62107846-e39f-4fd2-ce40-42e19e775792"
      },
      "cell_type": "code",
      "source": [
        "train_dataset = np.reshape (n_imgs, IMAGE_SIZE * IMAGE_SIZE)"
      ],
      "execution_count": null,
      "outputs": [
        {
          "output_type": "error",
          "ename": "NameError",
          "evalue": "ignored",
          "traceback": [
            "\u001b[0;31m---------------------------------------------------------------------------\u001b[0m",
            "\u001b[0;31mNameError\u001b[0m                                 Traceback (most recent call last)",
            "\u001b[0;32m<ipython-input-3-5268e4bc97be>\u001b[0m in \u001b[0;36m<module>\u001b[0;34m()\u001b[0m\n\u001b[0;32m----> 1\u001b[0;31m \u001b[0mtrain_dataset\u001b[0m \u001b[0;34m=\u001b[0m \u001b[0mnp\u001b[0m\u001b[0;34m.\u001b[0m\u001b[0mreshape\u001b[0m \u001b[0;34m(\u001b[0m\u001b[0mn_imgs\u001b[0m\u001b[0;34m,\u001b[0m \u001b[0mIMAGE_SIZE\u001b[0m \u001b[0;34m*\u001b[0m \u001b[0mIMAGE_SIZE\u001b[0m\u001b[0;34m)\u001b[0m\u001b[0;34m\u001b[0m\u001b[0m\n\u001b[0m",
            "\u001b[0;31mNameError\u001b[0m: name 'np' is not defined"
          ]
        }
      ]
    },
    {
      "metadata": {
        "id": "PbrZrs7ikcbl"
      },
      "cell_type": "code",
      "source": [
        "test_dataset = np.reshape"
      ],
      "execution_count": null,
      "outputs": []
    },
    {
      "metadata": {
        "id": "9GIoSqgRkmj9",
        "colab": {
          "base_uri": "https://localhost:8080/",
          "height": 180
        },
        "outputId": "65490e3b-b159-400f-f846-abb8ae2563c3"
      },
      "cell_type": "code",
      "source": [
        "print(train_dataset.shape)\n",
        "print(test_dataset.shape)"
      ],
      "execution_count": null,
      "outputs": [
        {
          "output_type": "error",
          "ename": "AttributeError",
          "evalue": "ignored",
          "traceback": [
            "\u001b[0;31m---------------------------------------------------------------------------\u001b[0m",
            "\u001b[0;31mAttributeError\u001b[0m                            Traceback (most recent call last)",
            "\u001b[0;32m<ipython-input-22-7827f9ccda96>\u001b[0m in \u001b[0;36m<module>\u001b[0;34m()\u001b[0m\n\u001b[0;32m----> 1\u001b[0;31m \u001b[0mprint\u001b[0m\u001b[0;34m(\u001b[0m\u001b[0mtrain_dataset\u001b[0m\u001b[0;34m.\u001b[0m\u001b[0mshape\u001b[0m\u001b[0;34m)\u001b[0m\u001b[0;34m\u001b[0m\u001b[0m\n\u001b[0m\u001b[1;32m      2\u001b[0m \u001b[0mprint\u001b[0m\u001b[0;34m(\u001b[0m\u001b[0mtest_dataset\u001b[0m\u001b[0;34m.\u001b[0m\u001b[0mshape\u001b[0m\u001b[0;34m)\u001b[0m\u001b[0;34m\u001b[0m\u001b[0m\n",
            "\u001b[0;31mAttributeError\u001b[0m: 'function' object has no attribute 'shape'"
          ]
        }
      ]
    },
    {
      "metadata": {
        "id": "7_FTGRFMlJQx"
      },
      "cell_type": "markdown",
      "source": [
        "Como siempre es importante tener un modelo base, que nos permita observar si agregarle complejidad al modelo sirve de algo."
      ]
    },
    {
      "metadata": {
        "id": "OUYnj0qTkokj",
        "colab": {
          "base_uri": "https://localhost:8080/",
          "height": 119
        },
        "outputId": "1f300cd2-61f7-4e4c-bde2-0b7bd513c693"
      },
      "cell_type": "code",
      "source": [
        "lr = LogisticRegression(multi_class='multinomial', solver='sag', max_iter=10)\n",
        "lr.fit(train_dataset, train_labels)"
      ],
      "execution_count": null,
      "outputs": [
        {
          "output_type": "stream",
          "text": [
            "/usr/local/lib/python3.6/dist-packages/sklearn/linear_model/sag.py:326: ConvergenceWarning: The max_iter was reached which means the coef_ did not converge\n",
            "  \"the coef_ did not converge\", ConvergenceWarning)\n"
          ],
          "name": "stderr"
        },
        {
          "output_type": "execute_result",
          "data": {
            "text/plain": [
              "LogisticRegression(C=1.0, class_weight=None, dual=False, fit_intercept=True,\n",
              "          intercept_scaling=1, max_iter=10, multi_class='multinomial',\n",
              "          n_jobs=1, penalty='l2', random_state=None, solver='sag',\n",
              "          tol=0.0001, verbose=0, warm_start=False)"
            ]
          },
          "metadata": {
            "tags": []
          },
          "execution_count": 19
        }
      ]
    },
    {
      "metadata": {
        "id": "PUV9hwqKuTcd",
        "colab": {
          "base_uri": "https://localhost:8080/",
          "height": 34
        },
        "outputId": "90ea7c5b-a9a4-4268-bfec-23f5a5a2dd34"
      },
      "cell_type": "code",
      "source": [
        "lr.score(test_dataset, test_labels)"
      ],
      "execution_count": null,
      "outputs": [
        {
          "output_type": "execute_result",
          "data": {
            "text/plain": [
              "0.8965498825037386"
            ]
          },
          "metadata": {
            "tags": []
          },
          "execution_count": 20
        }
      ]
    },
    {
      "metadata": {
        "id": "4ttkrnvZrW0A"
      },
      "cell_type": "markdown",
      "source": [
        "Ahora miremos el resultado de una red neuronal usando la clase [`MLPClassifier`](http://scikit-learn.org/stable/modules/generated/sklearn.neural_network.MLPClassifier.html) de scikit-learn.\n",
        "\n",
        "**Ejercicio 1:** construye una red neuronal con 100 nodos en la primera capa oculta y 50 en la segunda. Utiliza la función de activación relu y un máximo de 10 *epochs*."
      ]
    },
    {
      "metadata": {
        "id": "IkfpRAL8ubLo",
        "colab": {
          "base_uri": "https://localhost:8080/",
          "height": 190
        },
        "outputId": "d1beb84c-a04f-41f8-a04d-a66be76ba49e"
      },
      "cell_type": "code",
      "source": [
        "nn =\n",
        "nn.fit(train_dataset, train_labels)"
      ],
      "execution_count": null,
      "outputs": [
        {
          "output_type": "stream",
          "text": [
            "/usr/local/lib/python3.6/dist-packages/sklearn/neural_network/multilayer_perceptron.py:564: ConvergenceWarning: Stochastic Optimizer: Maximum iterations (10) reached and the optimization hasn't converged yet.\n",
            "  % self.max_iter, ConvergenceWarning)\n"
          ],
          "name": "stderr"
        },
        {
          "output_type": "execute_result",
          "data": {
            "text/plain": [
              "MLPClassifier(activation='relu', alpha=0.0001, batch_size='auto', beta_1=0.9,\n",
              "       beta_2=0.999, early_stopping=False, epsilon=1e-08,\n",
              "       hidden_layer_sizes=(100, 50), learning_rate='constant',\n",
              "       learning_rate_init=0.001, max_iter=10, momentum=0.9,\n",
              "       nesterovs_momentum=True, power_t=0.5, random_state=None,\n",
              "       shuffle=True, solver='adam', tol=0.0001, validation_fraction=0.1,\n",
              "       verbose=False, warm_start=False)"
            ]
          },
          "metadata": {
            "tags": []
          },
          "execution_count": 26
        }
      ]
    },
    {
      "metadata": {
        "id": "uD030kXoylud",
        "colab": {
          "base_uri": "https://localhost:8080/",
          "height": 34
        },
        "outputId": "7f228b58-060e-4396-f7de-ea7e27ba785a"
      },
      "cell_type": "code",
      "source": [
        "nn.score(test_dataset, test_labels)"
      ],
      "execution_count": null,
      "outputs": [
        {
          "output_type": "execute_result",
          "data": {
            "text/plain": [
              "0.956419568468276"
            ]
          },
          "metadata": {
            "tags": []
          },
          "execution_count": 27
        }
      ]
    },
    {
      "metadata": {
        "id": "aZZXNVpDyo7n"
      },
      "cell_type": "code",
      "source": [],
      "execution_count": null,
      "outputs": []
    }
  ]
}