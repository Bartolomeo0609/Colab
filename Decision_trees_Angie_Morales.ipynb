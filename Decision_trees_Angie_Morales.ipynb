{
  "nbformat": 4,
  "nbformat_minor": 0,
  "metadata": {
    "colab": {
      "provenance": []
    },
    "kernelspec": {
      "display_name": "Python 3",
      "language": "python",
      "name": "python3"
    }
  },
  "cells": [
    {
      "metadata": {
        "id": "TJuO5bu5xloy"
      },
      "cell_type": "markdown",
      "source": [
        "# Árboles de decisión\n",
        "\n",
        "En este cuaderno vamos a implementar árboles de decisión para un problema de clasificación binaria."
      ]
    },
    {
      "metadata": {
        "id": "NmweCCoOxYO0"
      },
      "cell_type": "code",
      "source": [
        "import numpy as np\n",
        "import matplotlib.pyplot as plt\n",
        "from matplotlib.colors import ListedColormap\n",
        "\n",
        "from sklearn.datasets import make_moons"
      ],
      "execution_count": null,
      "outputs": []
    },
    {
      "metadata": {
        "id": "gMRJx8OOzY_b"
      },
      "cell_type": "code",
      "source": [
        "plt.rc('font', family='serif')\n",
        "%matplotlib inline"
      ],
      "execution_count": null,
      "outputs": []
    },
    {
      "metadata": {
        "id": "HihSRIDLzXYq"
      },
      "cell_type": "code",
      "source": [
        "def plot_decision_regions(X, y, classifier=None, resolution=0.02):\n",
        "    \"\"\" Taken from Rashka's book \"\"\"\n",
        "    # setup marker generator and color map\n",
        "    markers = ('s', 'x', 'o', '^', 'v')\n",
        "    colors = ('red', 'blue', 'lightgreen', 'gray', 'cyan')\n",
        "    cmap = ListedColormap(colors[:len(np.unique(y))])\n",
        "\n",
        "    # plot the decision surface\n",
        "    x1_min, x1_max = X[:, 0].min() - 0.3, X[:, 0].max() + 0.3\n",
        "    x2_min, x2_max = X[:, 1].min() - 0.3, X[:, 1].max() + 0.3\n",
        "    xx1, xx2 = np.meshgrid(\n",
        "        np.arange(x1_min, x1_max, resolution),\n",
        "        np.arange(x2_min, x2_max, resolution)\n",
        "    )\n",
        "\n",
        "    if classifier is not None:\n",
        "        Z = classifier.predict(np.array([xx1.ravel(), xx2.ravel()]).T)\n",
        "        Z = Z.reshape(xx1.shape)\n",
        "        plt.contourf(xx1, xx2, Z, alpha=0.3, cmap=cmap)\n",
        "\n",
        "    plt.xlim(xx1.min(), xx1.max())\n",
        "    plt.ylim(xx2.min(), xx2.max())\n",
        "\n",
        "    # plot class samples\n",
        "    for idx, cl in enumerate(np.unique(y)):\n",
        "        plt.scatter(\n",
        "            x=X[y == cl, 0],\n",
        "            y=X[y == cl, 1],\n",
        "            alpha=0.8,\n",
        "            c=colors[idx],\n",
        "            marker=markers[idx],\n",
        "            label=cl,\n",
        "            edgecolor='black'\n",
        "        )"
      ],
      "execution_count": null,
      "outputs": []
    },
    {
      "metadata": {
        "id": "6LC2COK2zYLV",
        "colab": {
          "base_uri": "https://localhost:8080/",
          "height": 264
        },
        "outputId": "d8f27515-dfb3-4377-d4af-cc06e85cc855"
      },
      "cell_type": "code",
      "source": [
        "X, y = make_moons(noise=0.2)\n",
        "plot_decision_regions(X, y)"
      ],
      "execution_count": null,
      "outputs": [
        {
          "output_type": "display_data",
          "data": {
            "image/png": "[encoded data removed]",
            "text/plain": [
              "<matplotlib.figure.Figure at 0x7fc85628d898>"
            ]
          },
          "metadata": {
            "tags": []
          }
        }
      ]
    },
    {
      "metadata": {
        "id": "VvxttQMFHypa"
      },
      "cell_type": "markdown",
      "source": [
        "Primero vamos a definir una clase llamada Dataset, la cual contiene un atributo `features` y un atributo `labels`."
      ]
    },
    {
      "metadata": {
        "id": "GJPYkvSQPTro"
      },
      "cell_type": "code",
      "source": [
        "class Dataset:\n",
        "    def __init__(self, features, labels):\n",
        "\n",
        "        #The following assertion should be uncomented,\n",
        "        #but it is easier to verify your without it.\n",
        "        #assert features.shape[0] == labels.shape[0]\n",
        "\n",
        "        self.features = features\n",
        "        self.labels = labels\n",
        "        self.length = labels.shape[0]\n",
        "\n",
        "\n",
        "    def __repr__(self):\n",
        "        msg = \"Dataset my dataset of {} observations and {} predictor variables\"\n",
        "        return msg.format(self.length, self.features.shape[1])"
      ],
      "execution_count": null,
      "outputs": []
    },
    {
      "metadata": {
        "id": "kTL-VvQjMvq_"
      },
      "cell_type": "code",
      "source": [
        "import numpy as np"
      ],
      "execution_count": null,
      "outputs": []
    },
    {
      "metadata": {
        "id": "9AZzRLW2NcKE",
        "colab": {
          "base_uri": "https://localhost:8080/",
          "height": 34
        },
        "outputId": "a4880b1e-ed31-4336-e99f-049a0f8ca7a1"
      },
      "cell_type": "code",
      "source": [
        "dataset1= Dataset(features=np.array([(2,3),(8,7)]),labels=np.array(['Rojo','Azul']))\n",
        "print(dataset1)\n",
        "dataset1.labels\n",
        "\n",
        "dataset2= Dataset(features=X, labels=y)\n"
      ],
      "execution_count": null,
      "outputs": [
        {
          "output_type": "stream",
          "text": [
            "Dataset my dataset of 2 observations and 2 predictor variables\n"
          ],
          "name": "stdout"
        }
      ]
    },
    {
      "metadata": {
        "id": "nICD_nxZVaA1"
      },
      "cell_type": "markdown",
      "source": [
        "## Componentes de un árbol de decisión\n",
        "**Ejercicio 1:** calcular la proporción de elementos de un conjunto de datos que pertenece a una clase en particular."
      ]
    },
    {
      "metadata": {
        "id": "ktmZbPJkVZWB",
        "colab": {
          "base_uri": "https://localhost:8080/",
          "height": 34
        },
        "outputId": "20a1e6dd-3ee2-4b80-bf77-d607bd7feb62"
      },
      "cell_type": "code",
      "source": [
        "import numpy as np\n",
        "def _proportion(c, ds):\n",
        "        suma=np.sum(ds.labels==c)\n",
        "        prop=suma/len(ds.labels)\n",
        "        return prop\n",
        "\n",
        "_proportion(1,dataset2)\n"
      ],
      "execution_count": null,
      "outputs": [
        {
          "output_type": "execute_result",
          "data": {
            "text/plain": [
              "0.5"
            ]
          },
          "metadata": {
            "tags": []
          },
          "execution_count": 64
        }
      ]
    },
    {
      "metadata": {
        "id": "A3NwuQ2zXQeZ"
      },
      "cell_type": "markdown",
      "source": [
        "Si todo funciona, el resultado de la siguiente celda debe ser 0.25"
      ]
    },
    {
      "metadata": {
        "id": "6TgshkFWVgJc",
        "colab": {
          "base_uri": "https://localhost:8080/",
          "height": 34
        },
        "outputId": "0c112ac0-68a2-40b5-cfa5-68d426d2e00b"
      },
      "cell_type": "code",
      "source": [
        "ds = Dataset(features=None, labels=np.array([0, 0, 1, 0]))\n",
        "print(\"Proportion of class {} is {}\".format(1, _proportion(1, ds)))"
      ],
      "execution_count": null,
      "outputs": [
        {
          "output_type": "stream",
          "text": [
            "Proportion of class 1 is 0.25\n"
          ],
          "name": "stdout"
        }
      ]
    },
    {
      "metadata": {
        "id": "f1fQoT-QXYGH"
      },
      "cell_type": "markdown",
      "source": []
    },
    {
      "metadata": {
        "id": "sUHjUPXSVgDA"
      },
      "cell_type": "code",
      "source": [
        "def _gini_index(ds):\n",
        "    prop0=_proportion(0,ds)\n",
        "    prop1=_porportion(1,ds)\n",
        "\n",
        "    gini= 1-prop^2\n",
        "\n",
        "    \"\"\" Computes the gini index of ds \"\"\"\n",
        "    # your code starts here\n",
        "\n",
        "\n",
        "    # your code ends here\n",
        "    return gini"
      ],
      "execution_count": null,
      "outputs": []
    },
    {
      "metadata": {
        "id": "5WLT32QuZyFy"
      },
      "cell_type": "markdown",
      "source": [
        "Si lo hiciste bien, lo siguiente debe resultar en 0.375"
      ]
    },
    {
      "metadata": {
        "id": "-FmqJ7RsVf1G"
      },
      "cell_type": "code",
      "source": [
        "ds = Dataset(features=None, labels=np.array([0, 0, 1, 0]))\n",
        "print(\"The Gini index of the data set is {}\".format(_gini_index(ds)))"
      ],
      "execution_count": null,
      "outputs": []
    },
    {
      "metadata": {
        "id": "wFsCsRohaII9"
      },
      "cell_type": "markdown",
      "source": [
        "**Ejercicio 3:** implementar una función que calcule la entropía en un conjunto de datos."
      ]
    },
    {
      "metadata": {
        "id": "HfCAjxIbaPdT"
      },
      "cell_type": "code",
      "source": [
        "def _entropy(ds):\n",
        "    \"\"\" Computes the entropy of a data set\"\"\"\n",
        "    # here starts your code\n",
        "\n",
        "\n",
        "    # here ends your code\n",
        "    return entropy"
      ],
      "execution_count": null,
      "outputs": []
    },
    {
      "metadata": {
        "id": "bRgstvz0cIpA"
      },
      "cell_type": "markdown",
      "source": [
        "Lo siguiente debe dar 0.81"
      ]
    },
    {
      "metadata": {
        "id": "Ron86HI0bdRM"
      },
      "cell_type": "code",
      "source": [
        "ds = Dataset(features=None, labels=np.array([0, 0, 1, 0]))\n",
        "print(\"The Entropy of the data set is {:.2f}\".format(_entropy(ds)))"
      ],
      "execution_count": null,
      "outputs": []
    },
    {
      "metadata": {
        "id": "elKz6BYQdcAk"
      },
      "cell_type": "markdown",
      "source": [
        "**Ejercicio 4:** implementar la función para calcular la ganancia de información"
      ]
    },
    {
      "metadata": {
        "id": "XbXUvssDbc-W"
      },
      "cell_type": "code",
      "source": [
        "def _info_gain(ds, ds_left, ds_right, impurity_fn):\n",
        "    \"\"\"Compute the information gain of a split.\"\"\"\n",
        "    # here starts your code\n",
        "\n",
        "\n",
        "\n",
        "    # here ends your code\n",
        "    return info_gain"
      ],
      "execution_count": null,
      "outputs": []
    },
    {
      "metadata": {
        "id": "rx4q80EQsObY"
      },
      "cell_type": "markdown",
      "source": [
        "Lo siguiente debe dar 0.12 y 0.19"
      ]
    },
    {
      "metadata": {
        "id": "8YV_P-tfm4UX"
      },
      "cell_type": "code",
      "source": [
        "ds = Dataset(features=None, labels=np.array([0, 0, 0, 0, 1, 1, 1, 1]))\n",
        "ds_left = Dataset(features=None, labels=np.array([0, 0, 0, 1]))\n",
        "ds_right = Dataset(features=None, labels=np.array([0, 1, 1, 1]))\n",
        "\n",
        "msg = \"The information gain of the split using gini index is {:.2f}\"\n",
        "print(msg.format(_info_gain(ds, ds_left, ds_right, _gini_index)))\n",
        "\n",
        "msg = \"The information gain of the split using entropy is {:.2f}\"\n",
        "print(msg.format(_info_gain(ds, ds_left, ds_right, _entropy)))"
      ],
      "execution_count": null,
      "outputs": []
    },
    {
      "metadata": {
        "id": "VNntDkB5vKae"
      },
      "cell_type": "markdown",
      "source": [
        "**Ejercicio 5:** implemente la función que parte un conjunto de datos en 2"
      ]
    },
    {
      "metadata": {
        "id": "lLWpVaJZm4MP"
      },
      "cell_type": "code",
      "source": [
        "def _split_ds(ds, idx, value):\n",
        "    \"\"\" Create left and right splits of ds based on idx and value\"\"\"\n",
        "    #here starts your code\n",
        "\n",
        "\n",
        "    # here ends your code\n",
        "    return ds_left, ds_right"
      ],
      "execution_count": null,
      "outputs": []
    },
    {
      "metadata": {
        "id": "nei-CFyfwzyP"
      },
      "cell_type": "markdown",
      "source": [
        "We are expecting the following result:\n",
        "\n",
        "\n",
        "```\n",
        "Left...features: [[1.9 1.3]\n",
        " [2.7 1.1]]. labels [0 0].\n",
        "Right...features: [[9.5 3.6]\n",
        " [7.2 3.1]\n",
        " [7.4 0.3]]. labels [1 1 1].\n",
        "```"
      ]
    },
    {
      "metadata": {
        "id": "yWumsfjPm36a"
      },
      "cell_type": "code",
      "source": [
        "X_ = np.array([[1.9,1.3],\n",
        "\t           [2.7,1.1],\n",
        "               [9.5,3.6],\n",
        "               [7.2,3.1],\n",
        "               [7.4,0.3]])\n",
        "y_ = np.array([0,0,1,1,1])\n",
        "ds = Dataset(X_, y_)\n",
        "ds_left, ds_right = _split_ds(ds, 0, 5)\n",
        "\n",
        "msg = \"Left...features: {}. labels {}.\"\n",
        "print(msg.format(ds_left.features, ds_left.labels))\n",
        "\n",
        "msg = \"Right...features: {}. labels {}.\"\n",
        "print(msg.format(ds_right.features, ds_right.labels))"
      ],
      "execution_count": null,
      "outputs": []
    },
    {
      "metadata": {
        "id": "kGdviHam5-Pq"
      },
      "cell_type": "markdown",
      "source": [
        "**Ejercicio 6:** implementa una función que encuentre el mejor punto (índice y valor) para dividir un conjunto de datos. El resultado de esta función debe ser un diccionario que contenga los campos `idx, value, ds_left, ds_right`. La implementación está casi lista, solo debes reemplazar cosas que hacen que no funcione."
      ]
    },
    {
      "metadata": {
        "id": "n7BgU9Gk3Pt_"
      },
      "cell_type": "code",
      "source": [
        "def _best_split(ds, impurity_fn):\n",
        "    \"\"\" find the best split of a dataset using the given impurity_fn\"\"\"\n",
        "    #set best value to the lowest possible\n",
        "    best =\n",
        "\n",
        "    indices = ds.features.shape[1]\n",
        "\n",
        "    for idx in range(indices):\n",
        "        for value in ds.features[:, idx]:\n",
        "            ds_left, ds_right =\n",
        "            temp =\n",
        "            if temp > best:\n",
        "                best = temp\n",
        "                result = {\n",
        "                    'idx': idx,\n",
        "                    'value': value,\n",
        "                    'ds_left': ds_left,\n",
        "                    'ds_right': ds_right\n",
        "                }\n",
        "    return result"
      ],
      "execution_count": null,
      "outputs": []
    },
    {
      "metadata": {
        "id": "JbQjc-RM-FTI"
      },
      "cell_type": "markdown",
      "source": [
        "El mejor punto debe ser en el índice 0 y con el valor 3.6"
      ]
    },
    {
      "metadata": {
        "id": "DAcOUxuo3PRu"
      },
      "cell_type": "code",
      "source": [
        "X_ = np.array([[1.9,1.3],\n",
        "\t           [2.7,1.1],\n",
        "               [3.3,2.1],\n",
        "               [3.6,2.9],\n",
        "               [0.8,2.4],\n",
        "               [9.5,3.6],\n",
        "               [7.2,3.1],\n",
        "               [7.4,4.3],\n",
        "               [10.1,3.5],\n",
        "               [6.2,3.7]])\n",
        "y_ = np.array([0,0,0,0,0,1,1,1,1,1])\n",
        "ds = Dataset(X_, y_)\n",
        "result = _best_split(ds, _gini_index)\n",
        "msg = \"The best split ocurs at index {} and value {}\"\n",
        "print(msg.format(result['idx'], result['value']))"
      ],
      "execution_count": null,
      "outputs": []
    },
    {
      "metadata": {
        "id": "X9r9-_ne2ED9"
      },
      "cell_type": "markdown",
      "source": [
        "## Árbol de decisión en una clase\n",
        "Ya tenemos casi todo lo necesario para implementar una clase que se encargue de todo. Una de las ventajas de poner todo en una clase, es que esta se puede reutilizar más fácilmente; esto puede implicar que le podemos poner una interfaz a nuestro modelo que se adapte bien a como todo funciona dentro de la empresa.\n",
        "\n",
        "Falta muy poco para terminar de implementar nuestro árbol de decisión para clasificación. Lo que falta no será ejercicio sino que se dará como ejemplo.\n"
      ]
    },
    {
      "metadata": {
        "id": "khfuCmA3jUfv"
      },
      "cell_type": "code",
      "source": [
        "class DecisionTreeClassifier:\n",
        "    def __init__(self, max_depth=5, criterion='gini'):\n",
        "        self._root = None\n",
        "        self.max_depth = max_depth\n",
        "        if criterion == 'gini':\n",
        "            self._impurity_fn = lambda x: _gini_index(x)\n",
        "        else:\n",
        "            self._impurity_fn = lambda x: _entropy(x)\n",
        "\n",
        "\n",
        "    def _best_split(self, ds):\n",
        "        return _best_split(ds, self._impurity_fn)\n",
        "\n",
        "    def _define_class(self, labels):\n",
        "        return np.bincount(labels).argmax()\n",
        "\n",
        "    def _recursive_split(self, node, depth):\n",
        "\n",
        "        ds_left, ds_right = node['ds_left'], node['ds_right']\n",
        "        del node['ds_left']; del node['ds_right']\n",
        "\n",
        "        if ds_left.length == 0 or ds_right.length == 0:\n",
        "            all_labels = np.concatenate((ds_left.labels, ds_right.labels))\n",
        "            val = self._define_class(all_labels)\n",
        "            node['left'] = node['right'] = val\n",
        "            return\n",
        "\n",
        "        if depth >= self.max_depth:\n",
        "            node['left'] = self._define_class(ds_left.labels)\n",
        "            node['right'] = self._define_class(ds_right.labels)\n",
        "            return\n",
        "\n",
        "        if  ds_left.length == 1:\n",
        "            node['left'] = self._define_class(ds_left.labels)\n",
        "        else:\n",
        "            node['left'] = self._best_split(ds_left)\n",
        "            self._recursive_split(node['left'], depth + 1)\n",
        "\n",
        "        if ds_right.length == 1:\n",
        "            node['right'] = self._define_class(ds_right.labels)\n",
        "        else:\n",
        "            node['right'] = self._best_split(ds_right)\n",
        "            self._recursive_split(node['right'], depth + 1)\n",
        "\n",
        "    def fit(self, X, y):\n",
        "        self._root = self._best_split(Dataset(X, y))\n",
        "        self._recursive_split(self._root, 1)\n",
        "\n",
        "    def _recursive_travel(self, node, x):\n",
        "        idx = node['idx']\n",
        "        value = node['value']\n",
        "        if x[idx] <= value:\n",
        "            if isinstance(node['left'], dict):\n",
        "                return self._recursive_travel(node['left'], x)\n",
        "            else:\n",
        "                return node['left']\n",
        "        else:\n",
        "            if isinstance(node['right'], dict):\n",
        "                return self._recursive_travel(node['right'], x)\n",
        "            else:\n",
        "                return node['right']\n",
        "\n",
        "    def predict(self, X):\n",
        "        if self._root is not None:\n",
        "            iterable = (self._recursive_travel(self._root, xi) for xi in X)\n",
        "            return np.fromiter(iterable, int, X.shape[0])\n",
        "        else:\n",
        "            raise RuntimeError(\"please train me first\")"
      ],
      "execution_count": null,
      "outputs": []
    },
    {
      "metadata": {
        "id": "p3GE7FIRuoj2"
      },
      "cell_type": "code",
      "source": [
        "mytree = DecisionTreeClassifier(max_depth=5, criterion='entropy')\n",
        "mytree.fit(X, y)"
      ],
      "execution_count": null,
      "outputs": []
    },
    {
      "metadata": {
        "id": "A9XHqUGPwpf-"
      },
      "cell_type": "code",
      "source": [
        "np.mean(mytree.predict(X) == y)"
      ],
      "execution_count": null,
      "outputs": []
    },
    {
      "metadata": {
        "id": "JM0DGve4mNUR"
      },
      "cell_type": "code",
      "source": [
        "plot_decision_regions(X, y, classifier=mytree)"
      ],
      "execution_count": null,
      "outputs": []
    },
    {
      "metadata": {
        "id": "SyjWcBnJMMUp"
      },
      "cell_type": "code",
      "source": [],
      "execution_count": null,
      "outputs": []
    }
  ]
}